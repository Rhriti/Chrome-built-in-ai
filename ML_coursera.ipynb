{
 "cells": [
  {
   "cell_type": "markdown",
   "metadata": {},
   "source": [
    "First read the data, exploration first "
   ]
  },
  {
   "cell_type": "markdown",
   "metadata": {},
   "source": [
    "AI agents are gonna be the next big thing.checkout: https://www.youtube.com/watch?v=sal78ACtGTc"
   ]
  }
 ],
 "metadata": {
  "language_info": {
   "name": "python"
  }
 },
 "nbformat": 4,
 "nbformat_minor": 2
}
